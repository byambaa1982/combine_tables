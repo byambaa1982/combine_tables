{
  "nbformat": 4,
  "nbformat_minor": 0,
  "metadata": {
    "colab": {
      "name": "extract.ipynb",
      "provenance": [],
      "authorship_tag": "ABX9TyP3oHMiSTJ3c9Qeho7mxuGO",
      "include_colab_link": true
    },
    "kernelspec": {
      "name": "python3",
      "display_name": "Python 3"
    }
  },
  "cells": [
    {
      "cell_type": "markdown",
      "metadata": {
        "id": "view-in-github",
        "colab_type": "text"
      },
      "source": [
        "<a href=\"https://colab.research.google.com/github/byambaa1982/combine_tables/blob/master/extract.ipynb\" target=\"_parent\"><img src=\"https://colab.research.google.com/assets/colab-badge.svg\" alt=\"Open In Colab\"/></a>"
      ]
    },
    {
      "cell_type": "code",
      "metadata": {
        "id": "PgTMs3kXEMo9",
        "colab_type": "code",
        "outputId": "473c4f3f-39a5-47ad-db7b-604521f80310",
        "colab": {
          "base_uri": "https://localhost:8080/",
          "height": 122
        }
      },
      "source": [
        "from google.colab import drive\n",
        "drive.mount('/content/gdrive', force_remount=True)\n",
        "root_dir = \"/content/gdrive/My Drive/googe travel API\"\n",
        "base_dir = root_dir + 'byamba-v3/'"
      ],
      "execution_count": 1,
      "outputs": [
        {
          "output_type": "stream",
          "text": [
            "Go to this URL in a browser: https://accounts.google.com/o/oauth2/auth?client_id=947318989803-6bn6qk8qdgf4n4g3pfee6491hc0brc4i.apps.googleusercontent.com&redirect_uri=urn%3aietf%3awg%3aoauth%3a2.0%3aoob&response_type=code&scope=email%20https%3a%2f%2fwww.googleapis.com%2fauth%2fdocs.test%20https%3a%2f%2fwww.googleapis.com%2fauth%2fdrive%20https%3a%2f%2fwww.googleapis.com%2fauth%2fdrive.photos.readonly%20https%3a%2f%2fwww.googleapis.com%2fauth%2fpeopleapi.readonly\n",
            "\n",
            "Enter your authorization code:\n",
            "··········\n",
            "Mounted at /content/gdrive\n"
          ],
          "name": "stdout"
        }
      ]
    },
    {
      "cell_type": "code",
      "metadata": {
        "id": "GNYtsiiiEV1q",
        "colab_type": "code",
        "colab": {}
      },
      "source": [
        "import os\n",
        "os.chdir('/content/gdrive/My Drive/google travel API')  #change dir\n",
        "# !mkdir train  #create a directory named train/\n",
        "# !mkdir test  #create a directory named test/\n",
        "#!unzip -q varm.zip   #unzip data in StevenCSV"
      ],
      "execution_count": 0,
      "outputs": []
    },
    {
      "cell_type": "code",
      "metadata": {
        "id": "5EBr6j53ExMA",
        "colab_type": "code",
        "outputId": "915b3d67-ccbd-4a9b-c237-6e96f51641f1",
        "colab": {
          "base_uri": "https://localhost:8080/",
          "height": 85
        }
      },
      "source": [
        "! ls"
      ],
      "execution_count": 3,
      "outputs": [
        {
          "output_type": "stream",
          "text": [
            "agency.txt\t    feb24_included.csv\tgoogle\t\ttravel.gsheet\n",
            "calendar_dates.txt  feed_info.txt\tno_shift.csv\ttrips.txt\n",
            "calendar.txt\t    final_result.csv\tstops.txt\n",
            "extract.ipynb\t    fixed_v.csv\t\tstop_times.txt\n"
          ],
          "name": "stdout"
        }
      ]
    },
    {
      "cell_type": "code",
      "metadata": {
        "id": "E3hkQDhLFenF",
        "colab_type": "code",
        "colab": {}
      },
      "source": [
        "import pandas as pd\n",
        "import numpy as np"
      ],
      "execution_count": 0,
      "outputs": []
    },
    {
      "cell_type": "code",
      "metadata": {
        "id": "5bIOpYY4Dz3l",
        "colab_type": "code",
        "colab": {}
      },
      "source": [
        "stop=pd.read_csv('stops.txt')\n",
        "stop_times=pd.read_csv('stop_times.txt')\n",
        "calendar=pd.read_csv('calendar.txt')\n",
        "calendar_dates=pd.read_csv('calendar_dates.txt')\n",
        "trips=pd.read_csv('trips.txt')"
      ],
      "execution_count": 0,
      "outputs": []
    },
    {
      "cell_type": "code",
      "metadata": {
        "id": "Xjwsb1uO9lu9",
        "colab_type": "code",
        "colab": {}
      },
      "source": [
        " trips=trips.iloc[0:,0:3]\n",
        " new_calendar_dates=calendar_dates[(calendar_dates.date>20200223 )& (calendar_dates.date<20200301)]\n",
        " new_calendar_dates=new_calendar_dates.iloc[0:,0:2]\n",
        " stop_times=stop_times.iloc[0:,0:5]"
      ],
      "execution_count": 0,
      "outputs": []
    },
    {
      "cell_type": "markdown",
      "metadata": {
        "id": "dUxvi0sKolaS",
        "colab_type": "text"
      },
      "source": [
        "## Merge them on service_id and make a new column named \"unique_trip_id\""
      ]
    },
    {
      "cell_type": "code",
      "metadata": {
        "id": "dfn7KO0lGXB4",
        "colab_type": "code",
        "colab": {}
      },
      "source": [
        "new_csv=stop_times.iloc[0:,0:5]"
      ],
      "execution_count": 0,
      "outputs": []
    },
    {
      "cell_type": "code",
      "metadata": {
        "id": "fmNHRUBaGdkf",
        "colab_type": "code",
        "colab": {}
      },
      "source": [
        "a=trips\n",
        "b=new_calendar_dates\n",
        "c=pd.merge(a, b, on='service_id', how='left')\n",
        "c['unique_trip_id']=c.index+1\n",
        "e=stop_times\n",
        "f=pd.merge(c, e, on='trip_id', how='left')\n"
      ],
      "execution_count": 0,
      "outputs": []
    },
    {
      "cell_type": "code",
      "metadata": {
        "id": "sC2rfoIpJd5M",
        "colab_type": "code",
        "colab": {}
      },
      "source": [
        "df.to_csv('no_shift.csv' index=False)"
      ],
      "execution_count": 0,
      "outputs": []
    },
    {
      "cell_type": "markdown",
      "metadata": {
        "id": "MVqmNyWiUCdl",
        "colab_type": "text"
      },
      "source": [
        "# Main"
      ]
    },
    {
      "cell_type": "code",
      "metadata": {
        "id": "GCP_L36HjwWC",
        "colab_type": "code",
        "colab": {}
      },
      "source": [
        "df=pd.read_csv('no_shift.csv')"
      ],
      "execution_count": 0,
      "outputs": []
    },
    {
      "cell_type": "code",
      "metadata": {
        "id": "4A4idVc1kJy9",
        "colab_type": "code",
        "colab": {}
      },
      "source": [
        "df['unique_trip_id']=df['unique_trip_id'].map(lambda x: x+1)\n",
        "df['first']=df['unique_trip_id'].map(lambda x: str(x))\n",
        "df['second']=df['stop_sequence'].map(lambda x: str(x))\n",
        "df['first_date']=df['start_date'].map(lambda x: str(x))\n",
        "df['second_date']=df['end_date'].map(lambda x: str(x))\n",
        "df['unique_sub_trip_id']= df[['first', 'second']].apply(lambda x: '.'.join(x), axis=1)\n",
        "df['arrival_time']= df[['second_date', 'arrival_time']].apply(lambda x: ' '.join(x), axis=1)\n",
        "df['departure_time']= df[['first_date', 'departure_time']].apply(lambda x: ' '.join(x), axis=1)"
      ],
      "execution_count": 0,
      "outputs": []
    },
    {
      "cell_type": "code",
      "metadata": {
        "id": "Ew6prTLxfF82",
        "colab_type": "code",
        "colab": {}
      },
      "source": [
        "# groups = df.groupby(by=['unique_trip_id'])\n",
        "# print(groups.apply(lambda g: g[g['stop_sequence'] == g['stop_sequence'].max()]))"
      ],
      "execution_count": 0,
      "outputs": []
    },
    {
      "cell_type": "code",
      "metadata": {
        "id": "h-cbbA7YkXnd",
        "colab_type": "code",
        "colab": {}
      },
      "source": [
        "def make_zero():\n",
        "  df['test']=df.arrival_time.map(lambda x: 0)\n",
        "  return df"
      ],
      "execution_count": 0,
      "outputs": []
    },
    {
      "cell_type": "code",
      "metadata": {
        "id": "AvGWjVJep_fM",
        "colab_type": "code",
        "colab": {}
      },
      "source": [
        "df=df[['unique_trip_id', 'unique_sub_trip_id', 'trip_id',\n",
        "       'stop_id', 'stop_sequence', 'departure_time', 'arrival_time']]"
      ],
      "execution_count": 0,
      "outputs": []
    },
    {
      "cell_type": "code",
      "metadata": {
        "id": "gmVlBUmWuE8q",
        "colab_type": "code",
        "colab": {
          "base_uri": "https://localhost:8080/",
          "height": 119
        },
        "outputId": "82c372b1-8523-4880-c0d3-6d44a18ef6f1"
      },
      "source": [
        "unique_trip_id_list=df.unique_trip_id.unique().tolist()\n",
        "df_list=[]\n",
        "for i in unique_trip_id_list:\n",
        "  df1 = df.loc[df['unique_trip_id'] == i]\n",
        "  df1['arrival_time'] = df1['arrival_time'].shift(-1)\n",
        "  df_list.append(df1)\n",
        "final_result=pd.concat(df_list)"
      ],
      "execution_count": 16,
      "outputs": [
        {
          "output_type": "stream",
          "text": [
            "/usr/local/lib/python3.6/dist-packages/ipykernel_launcher.py:5: SettingWithCopyWarning: \n",
            "A value is trying to be set on a copy of a slice from a DataFrame.\n",
            "Try using .loc[row_indexer,col_indexer] = value instead\n",
            "\n",
            "See the caveats in the documentation: http://pandas.pydata.org/pandas-docs/stable/user_guide/indexing.html#returning-a-view-versus-a-copy\n",
            "  \"\"\"\n"
          ],
          "name": "stderr"
        }
      ]
    },
    {
      "cell_type": "code",
      "metadata": {
        "id": "xBSaHGdcu5Uo",
        "colab_type": "code",
        "colab": {}
      },
      "source": [
        "final_result.to_csv('resultv3.csv', index=False)"
      ],
      "execution_count": 0,
      "outputs": []
    },
    {
      "cell_type": "code",
      "metadata": {
        "id": "Wi2Dx1p3qC4q",
        "colab_type": "code",
        "colab": {}
      },
      "source": [
        "# final_result[final_result.trip_id==175500000044939798]\n",
        "# df.head()"
      ],
      "execution_count": 0,
      "outputs": []
    },
    {
      "cell_type": "code",
      "metadata": {
        "id": "2xsdliXMxUwD",
        "colab_type": "code",
        "colab": {}
      },
      "source": [
        "df=pd.read_csv('resultv3.csv')"
      ],
      "execution_count": 0,
      "outputs": []
    },
    {
      "cell_type": "code",
      "metadata": {
        "id": "K1zqle2Uxo2K",
        "colab_type": "code",
        "colab": {}
      },
      "source": [
        "df['first']=df['unique_trip_id'].map(lambda x: str(x))\n",
        "df['second']=df['stop_sequence'].map(lambda x: str(x))\n",
        "df['unique_sub_trip_id']= df[['first', 'second']].apply(lambda x: '.'.join(x), axis=1)"
      ],
      "execution_count": 0,
      "outputs": []
    },
    {
      "cell_type": "code",
      "metadata": {
        "id": "K0qoQkcWy9_a",
        "colab_type": "code",
        "colab": {}
      },
      "source": [
        "df=df[['unique_trip_id', 'unique_sub_trip_id', 'trip_id', 'stop_id',\n",
        "       'stop_sequence', 'departure_time', 'arrival_time']]"
      ],
      "execution_count": 0,
      "outputs": []
    },
    {
      "cell_type": "code",
      "metadata": {
        "id": "Znb-GZEkxzV1",
        "colab_type": "code",
        "colab": {}
      },
      "source": [
        "df.to_csv('result_v4.csv', index=False)"
      ],
      "execution_count": 0,
      "outputs": []
    },
    {
      "cell_type": "code",
      "metadata": {
        "id": "MejT803YzOiI",
        "colab_type": "code",
        "colab": {
          "base_uri": "https://localhost:8080/",
          "height": 204
        },
        "outputId": "2be78f37-56d8-4389-ac49-043eed6f1839"
      },
      "source": [
        "df=pd.read_csv('result_v4.csv')\n",
        "df.head()"
      ],
      "execution_count": 30,
      "outputs": [
        {
          "output_type": "execute_result",
          "data": {
            "text/html": [
              "<div>\n",
              "<style scoped>\n",
              "    .dataframe tbody tr th:only-of-type {\n",
              "        vertical-align: middle;\n",
              "    }\n",
              "\n",
              "    .dataframe tbody tr th {\n",
              "        vertical-align: top;\n",
              "    }\n",
              "\n",
              "    .dataframe thead th {\n",
              "        text-align: right;\n",
              "    }\n",
              "</style>\n",
              "<table border=\"1\" class=\"dataframe\">\n",
              "  <thead>\n",
              "    <tr style=\"text-align: right;\">\n",
              "      <th></th>\n",
              "      <th>unique_trip_id</th>\n",
              "      <th>unique_sub_trip_id</th>\n",
              "      <th>trip_id</th>\n",
              "      <th>stop_id</th>\n",
              "      <th>stop_sequence</th>\n",
              "      <th>departure_time</th>\n",
              "      <th>arrival_time</th>\n",
              "    </tr>\n",
              "  </thead>\n",
              "  <tbody>\n",
              "    <tr>\n",
              "      <th>0</th>\n",
              "      <td>1</td>\n",
              "      <td>1.1</td>\n",
              "      <td>175500000100261913</td>\n",
              "      <td>9022017085885001</td>\n",
              "      <td>1</td>\n",
              "      <td>20200226.0 07:50:00</td>\n",
              "      <td>20200226.0 07:51:00</td>\n",
              "    </tr>\n",
              "    <tr>\n",
              "      <th>1</th>\n",
              "      <td>1</td>\n",
              "      <td>1.2</td>\n",
              "      <td>175500000100261913</td>\n",
              "      <td>9022017385126001</td>\n",
              "      <td>2</td>\n",
              "      <td>20200226.0 07:51:00</td>\n",
              "      <td>20200226.0 07:54:00</td>\n",
              "    </tr>\n",
              "    <tr>\n",
              "      <th>2</th>\n",
              "      <td>1</td>\n",
              "      <td>1.3</td>\n",
              "      <td>175500000100261913</td>\n",
              "      <td>9022017385053001</td>\n",
              "      <td>3</td>\n",
              "      <td>20200226.0 07:54:00</td>\n",
              "      <td>20200226.0 07:59:00</td>\n",
              "    </tr>\n",
              "    <tr>\n",
              "      <th>3</th>\n",
              "      <td>1</td>\n",
              "      <td>1.4</td>\n",
              "      <td>175500000100261913</td>\n",
              "      <td>9022017085242001</td>\n",
              "      <td>4</td>\n",
              "      <td>20200226.0 07:59:00</td>\n",
              "      <td>20200226.0 08:05:00</td>\n",
              "    </tr>\n",
              "    <tr>\n",
              "      <th>4</th>\n",
              "      <td>1</td>\n",
              "      <td>1.5</td>\n",
              "      <td>175500000100261913</td>\n",
              "      <td>9022017385186001</td>\n",
              "      <td>5</td>\n",
              "      <td>20200226.0 08:05:00</td>\n",
              "      <td>NaN</td>\n",
              "    </tr>\n",
              "  </tbody>\n",
              "</table>\n",
              "</div>"
            ],
            "text/plain": [
              "   unique_trip_id  unique_sub_trip_id  ...       departure_time         arrival_time\n",
              "0               1                 1.1  ...  20200226.0 07:50:00  20200226.0 07:51:00\n",
              "1               1                 1.2  ...  20200226.0 07:51:00  20200226.0 07:54:00\n",
              "2               1                 1.3  ...  20200226.0 07:54:00  20200226.0 07:59:00\n",
              "3               1                 1.4  ...  20200226.0 07:59:00  20200226.0 08:05:00\n",
              "4               1                 1.5  ...  20200226.0 08:05:00                  NaN\n",
              "\n",
              "[5 rows x 7 columns]"
            ]
          },
          "metadata": {
            "tags": []
          },
          "execution_count": 30
        }
      ]
    }
  ]
}